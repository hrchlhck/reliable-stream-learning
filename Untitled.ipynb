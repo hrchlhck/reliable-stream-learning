{
 "cells": [
  {
   "cell_type": "code",
   "execution_count": 1,
   "metadata": {
    "collapsed": true
   },
   "outputs": [],
   "source": [
    "from skmultiflow.meta import AdaptiveRandomForestClassifier\n",
    "from skmultiflow.meta import OzaBaggingClassifier\n",
    "from skmultiflow.lazy import KNNClassifier\n",
    "from skmultiflow.trees import HoeffdingTreeClassifier\n",
    "from functools import reduce\n",
    "from operator import add\n",
    "from pathlib import Path\n",
    "import matplotlib.pyplot as plt\n",
    "import pandas as pd\n",
    "import numpy as np"
   ]
  },
  {
   "cell_type": "code",
   "execution_count": 2,
   "metadata": {
    "collapsed": true
   },
   "outputs": [],
   "source": [
    "BASES = [\"NIGEL\", \"MOORE\", \"VIEGAS\", \"ORUNADA\"]\n",
    "DATASETS_PATH = Path(\"./outDayDataset/\")\n",
    "DATASETS = {year: {base : DATASETS_PATH.joinpath(str(year)).joinpath(base) for base in BASES} \n",
    "            for year in range(2010, 2017)}\n",
    "MONTHS_NAME = [\"Jan\", \"Feb\", \"Mar\", \"Apr\", \"May\", \"Jun\", \"Jul\", \"Aug\", \"Sep\", \"Oct\", \"Nov\", \"Dec\"]\n",
    "MONTHS = [(str(i)) if i >= 10 else f\"0{i}\" for i in range(1, 13)]\n",
    "MONTHS = list(zip(MONTHS, MONTHS_NAME))"
   ]
  },
  {
   "cell_type": "code",
   "execution_count": 96,
   "metadata": {},
   "outputs": [],
   "source": [
    "def get_files(year: int, base: str, month: str, ext=\"csv\") -> list:\n",
    "    global DATASETS\n",
    "    ret = {\n",
    "        'path': DATASETS[year][base].joinpath(month),\n",
    "        'files': [f for f in DATASETS[year][base].joinpath(month).glob(f\"*.{ext}\")]\n",
    "    }\n",
    "    ret['files'] = sorted(ret['files'])\n",
    "    return ret\n",
    "\n",
    "def get_X_y(csv: Path) -> tuple:\n",
    "    df = pd.read_csv(csv)\n",
    "    df = df.sample(frac=1)\n",
    "    df = df.drop(['MAWILAB_taxonomy', 'MAWILAB_label', 'MAWILAB_nbDetectors', 'MAWILAB_distance'], axis=1)\n",
    "    X = df.drop(['class'], axis=1).to_numpy()\n",
    "    y = df['class'].to_numpy()\n",
    "    return X, y\n",
    "\n",
    "def mean_accuracy(results: dict) -> float:\n",
    "    x = [results[i]['accuracy'] for i in results]\n",
    "    return sum(x) / len(x)\n",
    "\n",
    "def std_accuracy(results: dict) -> float:\n",
    "    x = [results[i]['accuracy'] for i in results]\n",
    "    mean = mean_accuracy(results)\n",
    "    std = (sum((i - mean) ** 2 for i in x) / (len(x) - 1)) ** 0.5\n",
    "    return std\n",
    "\n",
    "def clf_predict(clf: object, files: list) -> dict:\n",
    "    results = dict()\n",
    "    for file in files:\n",
    "        corrects = 0\n",
    "        samples = 0\n",
    "        fn = 0\n",
    "        fp = 0\n",
    "        tp = 0\n",
    "        tn = 0\n",
    "        X_new, y_new = get_X_y(file)\n",
    "        pred = clf.predict(X_new)\n",
    "        for i in range(len(X_new)):\n",
    "            pred = clf.predict([X_new[i]])\n",
    "            if pred is not None:\n",
    "                if pred[0] == y_new[i]:\n",
    "                    corrects += 1\n",
    "                # False negative\n",
    "                if pred[0] == 0 and y_new[i] == 1:\n",
    "                    fn += 1\n",
    "                # False positive\n",
    "                if pred[0] == 1 and y_new[i] == 0:\n",
    "                    fp += 1\n",
    "                # True positive\n",
    "                if pred[0] == 1 and y_new[i] == 1:\n",
    "                    tp += 1\n",
    "                # False negative\n",
    "                if pred[0] == 0 and y_new[i] == 0:\n",
    "                    tn += 1\n",
    "            samples += 1\n",
    "        \n",
    "        # FNR: False Negative Rate\n",
    "        # FPR: False Positive Rate\n",
    "        results[file.name] = {\n",
    "            'corrects': corrects, \n",
    "            'samples': samples, \n",
    "            'fp': fp,\n",
    "            'fn': fn,\n",
    "            'fnr': fn / (fn + tp),\n",
    "            'fpr': fp / (fp + tn),\n",
    "            'tp': tp,\n",
    "            'tn': tn,\n",
    "            'recall': tp / (tp + fn),\n",
    "            'precision': tp / (tp + fp),\n",
    "            'accuracy': round(clf.score(X_new, y_new), 5),\n",
    "        }\n",
    "    return results\n",
    "\n",
    "mean = lambda results, key: sum(results[k][key] for k in results) / len(results)\n",
    "\n",
    "def show_results(results: dict) -> dict:\n",
    "    mean_acc = mean_accuracy(results)\n",
    "    mean_std = std_accuracy(results)\n",
    "    precision = mean(results, 'precision')\n",
    "    recall = mean(results, 'recall')\n",
    "    fpr = mean(results, 'fpr')\n",
    "    fnr = mean(results, 'fnr')\n",
    "    fp = mean(results, 'fp')\n",
    "    fn = mean(results, 'fn')\n",
    "    tp = mean(results, 'tp')\n",
    "    tp = mean(results, 'tn')\n",
    "\n",
    "    print(\"-*\" * 40)\n",
    "    print(f\"Month: {mn} \\t Mean accuracy: {mean_acc} \\t Mean Accuracy Std: {mean_std}\")\n",
    "    print(f\"FN: {fn} \\t FP: {fp}\")\n",
    "    print(f\"TP: {tp} \\t TN: {tn}\")\n",
    "    print(f\"FPR: {fpr} \\t FNR: {fnr}\")\n",
    "    print(f\"Precision: {precision} \\t Recall: {recall}\")\n",
    "    \n",
    "    ret = {\n",
    "        'precision': precision, 'recall': recall, \n",
    "        'fpr': fpr, 'fnr': fnr, \n",
    "        'fp': fpr, 'tn': tn, \n",
    "        'fn': fn, 'tp': tp, \n",
    "        'mean_accuracy': mean_acc, 'mean_std': mean_std\n",
    "    }\n",
    "    \n",
    "    return ret\n",
    "    "
   ]
  },
  {
   "cell_type": "code",
   "execution_count": 97,
   "metadata": {},
   "outputs": [],
   "source": [
    "files = get_files(2010, 'MOORE', '01')"
   ]
  },
  {
   "cell_type": "code",
   "execution_count": 98,
   "metadata": {},
   "outputs": [],
   "source": [
    "clf = HoeffdingTreeClassifier()"
   ]
  },
  {
   "cell_type": "code",
   "execution_count": 100,
   "metadata": {},
   "outputs": [
    {
     "name": "stdout",
     "output_type": "stream",
     "text": [
      "Done outDayDataset/2010/MOORE/01/01_201001021400_MOORE.arff.csv\n",
      "Done outDayDataset/2010/MOORE/01/01_201001031400_MOORE.arff.csv\n",
      "Done outDayDataset/2010/MOORE/01/01_201001041400_MOORE.arff.csv\n",
      "Done outDayDataset/2010/MOORE/01/01_201001051400_MOORE.arff.csv\n",
      "Done outDayDataset/2010/MOORE/01/01_201001061400_MOORE.arff.csv\n",
      "Done outDayDataset/2010/MOORE/01/01_201001071400_MOORE.arff.csv\n",
      "Done outDayDataset/2010/MOORE/01/01_201001081400_MOORE.arff.csv\n",
      "Done outDayDataset/2010/MOORE/01/01_201001091400_MOORE.arff.csv\n",
      "Done outDayDataset/2010/MOORE/01/01_201001101400_MOORE.arff.csv\n",
      "Done outDayDataset/2010/MOORE/01/01_201001111400_MOORE.arff.csv\n",
      "Done outDayDataset/2010/MOORE/01/01_201001121400_MOORE.arff.csv\n",
      "Done outDayDataset/2010/MOORE/01/01_201001131400_MOORE.arff.csv\n",
      "Done outDayDataset/2010/MOORE/01/01_201001141400_MOORE.arff.csv\n",
      "Done outDayDataset/2010/MOORE/01/01_201001161400_MOORE.arff.csv\n",
      "Done outDayDataset/2010/MOORE/01/01_201001171400_MOORE.arff.csv\n",
      "Done outDayDataset/2010/MOORE/01/01_201001181400_MOORE.arff.csv\n",
      "Done outDayDataset/2010/MOORE/01/01_201001191400_MOORE.arff.csv\n",
      "Done outDayDataset/2010/MOORE/01/01_201001201400_MOORE.arff.csv\n",
      "Done outDayDataset/2010/MOORE/01/01_201001211400_MOORE.arff.csv\n",
      "Done outDayDataset/2010/MOORE/01/01_201001221400_MOORE.arff.csv\n",
      "Done outDayDataset/2010/MOORE/01/01_201001231400_MOORE.arff.csv\n",
      "Done outDayDataset/2010/MOORE/01/01_201001241400_MOORE.arff.csv\n",
      "Done outDayDataset/2010/MOORE/01/01_201001251400_MOORE.arff.csv\n",
      "Done outDayDataset/2010/MOORE/01/01_201001261400_MOORE.arff.csv\n",
      "Done outDayDataset/2010/MOORE/01/01_201001271400_MOORE.arff.csv\n",
      "Done outDayDataset/2010/MOORE/01/01_201001281400_MOORE.arff.csv\n",
      "Done outDayDataset/2010/MOORE/01/01_201001291400_MOORE.arff.csv\n",
      "Done outDayDataset/2010/MOORE/01/01_201001301400_MOORE.arff.csv\n",
      "Done outDayDataset/2010/MOORE/01/01_201001311400_MOORE.arff.csv\n",
      "Done outDayDataset/2010/MOORE/01/01_201002011400_MOORE.arff.csv\n",
      "Done outDayDataset/2010/MOORE/01/01_201002021400_MOORE.arff.csv\n",
      "Done outDayDataset/2010/MOORE/01/01_201002031400_MOORE.arff.csv\n",
      "Done outDayDataset/2010/MOORE/01/01_201002041400_MOORE.arff.csv\n",
      "Done outDayDataset/2010/MOORE/01/01_201002051400_MOORE.arff.csv\n"
     ]
    }
   ],
   "source": [
    "X, y = get_X_y(files['files'][0])\n",
    "\n",
    "# Partial fit with first instance within a list\n",
    "clf = clf.partial_fit([X[0]], [y[0]], classes=[0, 1])\n",
    "for f in files['files'][1:]:\n",
    "    X, y = get_X_y(f)\n",
    "    for i in range(len(X)):\n",
    "        clf = clf.partial_fit([X[i]], [y[i]])\n",
    "    print(f\"Done {f}\")"
   ]
  },
  {
   "cell_type": "code",
   "execution_count": 41,
   "metadata": {
    "scrolled": false
   },
   "outputs": [
    {
     "name": "stdout",
     "output_type": "stream",
     "text": [
      "-*-*-*-*-*-*-*-*-*-*-*-*-*-*-*-*-*-*-*-*-*-*-*-*-*-*-*-*-*-*-*-*-*-*-*-*-*-*-*-*\n",
      "Month: Feb \t Mean accuracy: 0.9080913043478261 \t Mean Accuracy Std: 0.032618763047773565\n",
      "FN: 12261 \t FP: 22500\n",
      "TP: 179264 \t TN: 169025\n",
      "FPR: 2.7127591309061234 \t FNR: 1.5149884354525958\n",
      "Precision: 20.423892435705177 \t Recall: 21.485011564547403\n",
      "-*-*-*-*-*-*-*-*-*-*-*-*-*-*-*-*-*-*-*-*-*-*-*-*-*-*-*-*-*-*-*-*-*-*-*-*-*-*-*-*\n",
      "Month: Mar \t Mean accuracy: 0.9302982608695652 \t Mean Accuracy Std: 0.04809880755015695\n",
      "FN: 9733 \t FP: 12181\n",
      "TP: 134935 \t TN: 132487\n",
      "FPR: 1.9018329212390337 \t FNR: 1.304485091479736\n",
      "Precision: 21.125590326008457 \t Recall: 21.695514908520266\n",
      "-*-*-*-*-*-*-*-*-*-*-*-*-*-*-*-*-*-*-*-*-*-*-*-*-*-*-*-*-*-*-*-*-*-*-*-*-*-*-*-*\n",
      "Month: Apr \t Mean accuracy: 0.9260769565217393 \t Mean Accuracy Std: 0.04561845633620262\n",
      "FN: 9181 \t FP: 15336\n",
      "TP: 173506 \t TN: 167351\n",
      "FPR: 1.9837287203966032 \t FNR: 1.4167101944663996\n",
      "Precision: 21.04753330299417 \t Recall: 21.583289805533596\n",
      "-*-*-*-*-*-*-*-*-*-*-*-*-*-*-*-*-*-*-*-*-*-*-*-*-*-*-*-*-*-*-*-*-*-*-*-*-*-*-*-*\n",
      "Month: May \t Mean accuracy: 0.9162191304347829 \t Mean Accuracy Std: 0.0390197715515706\n",
      "FN: 14535 \t FP: 18381\n",
      "TP: 182128 \t TN: 178282\n",
      "FPR: 2.216918744310048 \t FNR: 1.6369622398972645\n",
      "Precision: 20.832292518033658 \t Recall: 21.363037760102735\n",
      "-*-*-*-*-*-*-*-*-*-*-*-*-*-*-*-*-*-*-*-*-*-*-*-*-*-*-*-*-*-*-*-*-*-*-*-*-*-*-*-*\n",
      "Month: Jun \t Mean accuracy: 0.8712878260869565 \t Mean Accuracy Std: 0.06792108836774692\n",
      "FN: 26835 \t FP: 19300\n",
      "TP: 162503 \t TN: 170038\n",
      "FPR: 2.552384339403218 \t FNR: 3.3683909038995075\n",
      "Precision: 20.315664299298547 \t Recall: 19.631609096100494\n",
      "-*-*-*-*-*-*-*-*-*-*-*-*-*-*-*-*-*-*-*-*-*-*-*-*-*-*-*-*-*-*-*-*-*-*-*-*-*-*-*-*\n",
      "Month: Jul \t Mean accuracy: 0.9043034782608698 \t Mean Accuracy Std: 0.03260068119878028\n",
      "FN: 16560 \t FP: 27646\n",
      "TP: 219115 \t TN: 208029\n",
      "FPR: 2.968515465575568 \t FNR: 1.4335659577788327\n",
      "Precision: 20.238001702176316 \t Recall: 21.56643404222117\n",
      "-*-*-*-*-*-*-*-*-*-*-*-*-*-*-*-*-*-*-*-*-*-*-*-*-*-*-*-*-*-*-*-*-*-*-*-*-*-*-*-*\n",
      "Month: Aug \t Mean accuracy: 0.9170743478260871 \t Mean Accuracy Std: 0.024062282787890816\n",
      "FN: 7163 \t FP: 18958\n",
      "TP: 156713 \t TN: 144918\n",
      "FPR: 2.801403445804354 \t FNR: 1.0131483387531066\n",
      "Precision: 20.40392173400798 \t Recall: 21.986851661246895\n",
      "-*-*-*-*-*-*-*-*-*-*-*-*-*-*-*-*-*-*-*-*-*-*-*-*-*-*-*-*-*-*-*-*-*-*-*-*-*-*-*-*\n",
      "Month: Sep \t Mean accuracy: 0.8919717391304348 \t Mean Accuracy Std: 0.04752317727863036\n",
      "FN: 6618 \t FP: 19665\n",
      "TP: 124035 \t TN: 110988\n",
      "FPR: 3.563417879563862 \t FNR: 1.4059242885910601\n",
      "Precision: 19.769648682713843 \t Recall: 21.594075711408944\n",
      "-*-*-*-*-*-*-*-*-*-*-*-*-*-*-*-*-*-*-*-*-*-*-*-*-*-*-*-*-*-*-*-*-*-*-*-*-*-*-*-*\n",
      "Month: Oct \t Mean accuracy: 0.8091182608695651 \t Mean Accuracy Std: 0.14967350535725704\n",
      "FN: 6571 \t FP: 58119\n",
      "TP: 244183 \t TN: 192635\n",
      "FPR: 7.731363872723019 \t FNR: 1.0492443226747756\n",
      "Precision: 17.678568019162377 \t Recall: 21.95075567732523\n",
      "-*-*-*-*-*-*-*-*-*-*-*-*-*-*-*-*-*-*-*-*-*-*-*-*-*-*-*-*-*-*-*-*-*-*-*-*-*-*-*-*\n",
      "Month: Nov \t Mean accuracy: 0.7523899999999999 \t Mean Accuracy Std: 0.163037963314739\n",
      "FN: 7618 \t FP: 71677\n",
      "TP: 182192 \t TN: 118133\n",
      "FPR: 10.147699615733007 \t FNR: 1.2423814224270229\n",
      "Precision: 16.405645064465485 \t Recall: 21.757618577572973\n",
      "-*-*-*-*-*-*-*-*-*-*-*-*-*-*-*-*-*-*-*-*-*-*-*-*-*-*-*-*-*-*-*-*-*-*-*-*-*-*-*-*\n",
      "Month: Dec \t Mean accuracy: 0.8480691304347827 \t Mean Accuracy Std: 0.023303448030679436\n",
      "FN: 4572 \t FP: 31312\n",
      "TP: 112963 \t TN: 86223\n",
      "FPR: 6.102213002981127 \t FNR: 0.8865721096873033\n",
      "Precision: 18.02967886114645 \t Recall: 22.113427890312696\n"
     ]
    }
   ],
   "source": [
    "results = dict()\n",
    "for year in range(2010, 2017):\n",
    "    for m, mn in MONTHS[1:]:\n",
    "        files = get_files(year, 'MOORE', m)\n",
    "        result_p_month = clf_predict(clf, files['files'])\n",
    "        clf_metrics = show_results(result_p_month)\n",
    "        \n",
    "        results[year][m] = clf_metrics\n",
    "        "
   ]
  },
  {
   "cell_type": "code",
   "execution_count": 89,
   "metadata": {},
   "outputs": [],
   "source": [
    "acc = [i[1] for i in acc_per_month]\n",
    "months = [i[0] for i in acc_per_month]\n",
    "fpr = [2.7127591309061234, 1.9018329212390337, 1.9837287203966032, 2.216918744310048, 2.552384339403218, 2.968515465575568, 2.801403445804354, 3.563417879563862, 7.731363872723019, 10.147699615733007, 6.102213002981127]\n",
    "fnr = [1.5149884354525958, 1.304485091479736, 1.4167101944663996, 1.6369622398972645, 3.3683909038995075, 1.4335659577788327, 1.0131483387531066, 1.4059242885910601, 1.0492443226747756, 1.2423814224270229, 0.8865721096873033]\n",
    "\n",
    "fpr = list(map(lambda x: x / 23, fpr))\n",
    "fnr = list(map(lambda x: x / 23, fnr))"
   ]
  },
  {
   "cell_type": "code",
   "execution_count": 76,
   "metadata": {},
   "outputs": [
    {
     "data": {
      "image/png": "[encoded data removed]",
      "text/plain": [
       "<Figure size 432x288 with 1 Axes>"
      ]
     },
     "metadata": {
      "needs_background": "light"
     },
     "output_type": "display_data"
    }
   ],
   "source": [
    "plt.plot(months, acc, color='black', marker='*', label='Accuracy')\n",
    "plt.legend()\n",
    "plt.title('Hoeffding tree accuracy per month')\n",
    "plt.grid(True)\n",
    "plt.savefig('acc_p_month', dpi=210)\n",
    "plt.show()"
   ]
  },
  {
   "cell_type": "code",
   "execution_count": 90,
   "metadata": {},
   "outputs": [
    {
     "data": {
      "image/png": "[encoded data removed]",
      "text/plain": [
       "<Figure size 432x288 with 1 Axes>"
      ]
     },
     "metadata": {
      "needs_background": "light"
     },
     "output_type": "display_data"
    }
   ],
   "source": [
    "plt.plot(months, fnr, color='blue', marker='.', label='FN')\n",
    "plt.plot(months, fpr, color='black', marker='*', label='FP')\n",
    "plt.title('FN Rate vs FP Rate over time')\n",
    "plt.legend()\n",
    "plt.grid(True)\n",
    "plt.savefig('fn_vs_fp', dpi=210)\n",
    "plt.show()"
   ]
  },
  {
   "cell_type": "code",
   "execution_count": null,
   "metadata": {},
   "outputs": [],
   "source": []
  }
 ],
 "metadata": {
  "kernelspec": {
   "display_name": "Python 3",
   "language": "python",
   "name": "python3"
  },
  "language_info": {
   "codemirror_mode": {
    "name": "ipython",
    "version": 3
   },
   "file_extension": ".py",
   "mimetype": "text/x-python",
   "name": "python",
   "nbconvert_exporter": "python",
   "pygments_lexer": "ipython3",
   "version": "3.8.5"
  }
 },
 "nbformat": 4,
 "nbformat_minor": 4
}
